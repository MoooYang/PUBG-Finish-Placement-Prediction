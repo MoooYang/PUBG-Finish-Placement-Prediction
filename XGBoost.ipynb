{
 "cells": [
  {
   "cell_type": "code",
   "execution_count": 0,
   "metadata": {
    "_cell_guid": "b1076dfc-b9ad-4769-8c92-a6c4dae69d19",
    "_uuid": "8f2839f25d086af736a60e9eeb907d3b93b6e0e5",
    "colab": {},
    "colab_type": "code",
    "id": "zwCWuu-N-9As"
   },
   "outputs": [],
   "source": [
    "# This Python 3 environment comes with many helpful analytics libraries installed\n",
    "# It is defined by the kaggle/python docker image: https://github.com/kaggle/docker-python\n",
    "# For example, here's several helpful packages to load in \n",
    "\n",
    "import numpy as np # linear algebra\n",
    "import pandas as pd # data processing, CSV file I/O (e.g. pd.read_csv)\n",
    "import warnings\n",
    "import xgboost as xgb\n",
    "warnings.filterwarnings('ignore')\n",
    "# Input data files are available in the \"../input/\" directory.\n",
    "# For example, running this (by clicking run or pressing Shift+Enter) will list the files in the input directory\n",
    "\n",
    "import os\n",
    "print(os.listdir(\"../input\"))\n",
    "\n",
    "# Any results you write to the current directory are saved as output."
   ]
  },
  {
   "cell_type": "code",
   "execution_count": 0,
   "metadata": {
    "_uuid": "f331f7790f4eb13eb4fd4859821bd04b4019d6d5",
    "colab": {},
    "colab_type": "code",
    "id": "TbKdUD1Y-9Aw"
   },
   "outputs": [],
   "source": [
    "train_df = pd.read_csv(\"../input/train_V2.csv\")\n",
    "test_df = pd.read_csv(\"../input/test_V2.csv\")"
   ]
  },
  {
   "cell_type": "code",
   "execution_count": 0,
   "metadata": {
    "_uuid": "fed9a880799b54eb8f04f880c4e4520c1100ce49",
    "colab": {},
    "colab_type": "code",
    "id": "9qHl9KRI-9Ay"
   },
   "outputs": [],
   "source": [
    "train_df.head()"
   ]
  },
  {
   "cell_type": "code",
   "execution_count": 0,
   "metadata": {
    "_uuid": "b27218c2ee3d07a547ba2b9f18ef3eeec90e7518",
    "colab": {},
    "colab_type": "code",
    "id": "9bM1Pi5X-9A0"
   },
   "outputs": [],
   "source": [
    "train_df.isnull().sum()"
   ]
  },
  {
   "cell_type": "code",
   "execution_count": 0,
   "metadata": {
    "_uuid": "a7336f5e65fb16885fa79da29a1f74c924312438",
    "colab": {},
    "colab_type": "code",
    "id": "Gc1e95Tc-9A3"
   },
   "outputs": [],
   "source": [
    "matchTyp = ['squad-fpp', 'duo', 'solo-fpp', 'squad', 'duo-fpp', 'solo',\n",
    "       'normal-squad-fpp', 'crashfpp', 'flaretpp', 'normal-solo-fpp',\n",
    "       'flarefpp', 'normal-duo-fpp', 'normal-duo', 'normal-squad',\n",
    "       'crashtpp', 'normal-solo']\n",
    "mapping = {}\n",
    "for i, j in enumerate(matchTyp):\n",
    "    mapping[i] = j\n",
    "train_df[\"matchTypeMap\"] = train_df[\"matchType\"].apply(lambda x: ''.join(str(i) for i, j in mapping.items() if x == j)).map(int)\n",
    "test_df[\"matchTypeMap\"] = test_df[\"matchType\"].apply(lambda x: ''.join(str(i) for i, j in mapping.items() if x == j)).map(int)"
   ]
  },
  {
   "cell_type": "code",
   "execution_count": 0,
   "metadata": {
    "_uuid": "d2039b0704b30c51e03a71cb54c4a13cc64c78e2",
    "colab": {},
    "colab_type": "code",
    "id": "9dhp5JGV-9A5"
   },
   "outputs": [],
   "source": [
    "train_df.drop([\"matchType\"], axis =1, inplace=True)\n",
    "test_df.drop([\"matchType\"], axis =1, inplace=True)"
   ]
  },
  {
   "cell_type": "code",
   "execution_count": 0,
   "metadata": {
    "_uuid": "c6bc6bc094c486aeae91e2c55c7bf172b53ec072",
    "colab": {},
    "colab_type": "code",
    "id": "LJLjrY8R-9A7"
   },
   "outputs": [],
   "source": [
    "train_df.dropna(inplace = True)\n",
    "train_df.isnull().any().any()"
   ]
  },
  {
   "cell_type": "code",
   "execution_count": 0,
   "metadata": {
    "_uuid": "7f5a4b31b7e7ad1b2cf2c1a88e767d15e8a77651",
    "colab": {},
    "colab_type": "code",
    "id": "9YNhsdUH-9A8"
   },
   "outputs": [],
   "source": [
    "def rank_by_team(df):\n",
    "    cols_to_drop = ['Id', 'groupId', 'matchId', 'winPlacePerc', 'matchTypeMap']\n",
    "    features = [col for col in df.columns if col not in cols_to_drop]\n",
    "    agg = df.groupby(['matchId', 'groupId'])[features].mean()\n",
    "    agg = agg.groupby('matchId')[features].rank(pct=True)\n",
    "    return df.merge(agg, suffixes=['', '_mean_rank'], how='left', on=['matchId', 'groupId'])"
   ]
  },
  {
   "cell_type": "code",
   "execution_count": 0,
   "metadata": {
    "_uuid": "d3c562d1e45ddebdd44c9122700d62e3dcf83d04",
    "colab": {},
    "colab_type": "code",
    "id": "xMc_abnK-9A_"
   },
   "outputs": [],
   "source": [
    "train_df = rank_by_team(train_df)\n",
    "test_df = rank_by_team(test_df)"
   ]
  },
  {
   "cell_type": "code",
   "execution_count": 0,
   "metadata": {
    "_uuid": "07c0f17fcab31d27fd8a2533136349e1cfe35e19",
    "colab": {},
    "colab_type": "code",
    "id": "6fsbn5Km-9BB"
   },
   "outputs": [],
   "source": [
    "X = train_df.drop([\"Id\", \"groupId\", \"matchId\", \"winPlacePerc\"], axis = 1)\n",
    "y = train_df[\"winPlacePerc\"]\n",
    "test = test_df.drop([\"Id\", \"groupId\", \"matchId\"], axis = 1)"
   ]
  },
  {
   "cell_type": "code",
   "execution_count": 0,
   "metadata": {
    "_uuid": "4763c7346c7243e32fc5409d71ac48f320ed05a8",
    "colab": {},
    "colab_type": "code",
    "id": "8jlm_eMl-9BD"
   },
   "outputs": [],
   "source": [
    "X.head()"
   ]
  },
  {
   "cell_type": "code",
   "execution_count": 0,
   "metadata": {
    "_uuid": "00588d15fe9941101f0c3e42dbcab60739d6e462",
    "colab": {},
    "colab_type": "code",
    "id": "W6LXXO7M-9BF"
   },
   "outputs": [],
   "source": [
    "del train_df"
   ]
  },
  {
   "cell_type": "code",
   "execution_count": 0,
   "metadata": {
    "_uuid": "7cec4823398206652eb0dc9c6023aa94efdfcd8e",
    "colab": {},
    "colab_type": "code",
    "id": "_XmYibca-9BH"
   },
   "outputs": [],
   "source": [
    "from sklearn.model_selection import train_test_split\n",
    "X_train,X_test,y_train,y_test=train_test_split(X,y,test_size=0.2)"
   ]
  },
  {
   "cell_type": "code",
   "execution_count": 0,
   "metadata": {
    "_uuid": "cdce580d4271b4176c1d0f6ee797031c310918d1",
    "colab": {},
    "colab_type": "code",
    "id": "C0-uiwMT-9BI"
   },
   "outputs": [],
   "source": [
    "model = xgb.XGBRegressor(max_depth=5, gamma=0.1, learning_rate= 0.1, n_jobs=10)\n",
    "model.fit(X_train,y_train)"
   ]
  },
  {
   "cell_type": "code",
   "execution_count": 0,
   "metadata": {
    "_uuid": "efcb9ebe4b41726e637d5f80760b11a739fc5768",
    "colab": {},
    "colab_type": "code",
    "id": "qb0LmWgD-9BK"
   },
   "outputs": [],
   "source": [
    "from sklearn.metrics import mean_absolute_error\n",
    "y_pred=model.predict(X_test)\n",
    "print('mean absolute error is:',mean_absolute_error(y_test,y_pred))"
   ]
  },
  {
   "cell_type": "code",
   "execution_count": 0,
   "metadata": {
    "_uuid": "1b8e311fbb7803a8a2456b890fa121ba8ff6f060",
    "colab": {},
    "colab_type": "code",
    "id": "XpXHnkk8-9BM"
   },
   "outputs": [],
   "source": [
    "ax = xgb.plot_importance(model)\n",
    "fig = ax.figure\n",
    "fig.set_size_inches(15, 10)"
   ]
  },
  {
   "cell_type": "code",
   "execution_count": 0,
   "metadata": {
    "_uuid": "6c33c71a11c73553d13b8f53eab6efbe850ec6e8",
    "colab": {},
    "colab_type": "code",
    "id": "LwTNWF3q-9BO"
   },
   "outputs": [],
   "source": [
    "pred = model.predict(test)"
   ]
  },
  {
   "cell_type": "code",
   "execution_count": 0,
   "metadata": {
    "_uuid": "091026111c865eee5c37ce593019c05224059d27",
    "colab": {},
    "colab_type": "code",
    "id": "YCKBoBTy-9BQ"
   },
   "outputs": [],
   "source": [
    "test_id = test_df[\"Id\"]\n",
    "submit_xg = pd.DataFrame({'Id': test_id, \"winPlacePerc\": pred} , columns=['Id', 'winPlacePerc'])\n",
    "print(submit_xg.head())\n",
    "submit_xg.to_csv(\"submission.csv\", index = False)"
   ]
  },
  {
   "cell_type": "code",
   "execution_count": 0,
   "metadata": {
    "_uuid": "fa93c797342b736ca7ad2e3087c35e2be20f9cd9",
    "colab": {},
    "colab_type": "code",
    "id": "sW2y7j31-9BU"
   },
   "outputs": [],
   "source": []
  }
 ],
 "metadata": {
  "colab": {
   "name": "XGBoost.ipynb",
   "provenance": [],
   "version": "0.3.2"
  },
  "kernelspec": {
   "display_name": "Python 3",
   "language": "python",
   "name": "python3"
  },
  "language_info": {
   "codemirror_mode": {
    "name": "ipython",
    "version": 3
   },
   "file_extension": ".py",
   "mimetype": "text/x-python",
   "name": "python",
   "nbconvert_exporter": "python",
   "pygments_lexer": "ipython3",
   "version": "3.7.3"
  }
 },
 "nbformat": 4,
 "nbformat_minor": 1
}
