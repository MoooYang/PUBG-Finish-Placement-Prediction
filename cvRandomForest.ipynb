{
 "cells": [
  {
   "cell_type": "code",
   "execution_count": 0,
   "metadata": {
    "colab": {},
    "colab_type": "code",
    "id": "kxMR9MIV_WOs"
   },
   "outputs": [],
   "source": [
    "import gc\n",
    "import time\n",
    "import numpy as np\n",
    "import pandas as pd\n",
    "import matplotlib.pyplot as plt\n",
    "import seaborn as sns\n",
    "import random\n",
    "from sklearn.model_selection import cross_val_score\n",
    "from sklearn.ensemble import RandomForestRegressor\n",
    "random.seed(42)"
   ]
  },
  {
   "cell_type": "code",
   "execution_count": 0,
   "metadata": {
    "colab": {},
    "colab_type": "code",
    "id": "ByMN3IUU_WOx"
   },
   "outputs": [],
   "source": [
    "def reload():\n",
    "    gc.collect()\n",
    "    df = pd.read_csv('C:\\\\Users\\\\ymo\\\\Desktop\\\\502FP\\\\train_V2.csv')\n",
    "    invalid_match_ids = df[df['winPlacePerc'].isna()]['matchId'].values\n",
    "    df = df[-df['matchId'].isin(invalid_match_ids)]\n",
    "    return df"
   ]
  },
  {
   "cell_type": "code",
   "execution_count": 0,
   "metadata": {
    "colab": {},
    "colab_type": "code",
    "id": "TVyBIdNl_WOz"
   },
   "outputs": [],
   "source": [
    "def rank_by_team(df):\n",
    "    cols_to_drop = ['Id', 'groupId', 'matchId', 'winPlacePerc','matchType']\n",
    "    features = [col for col in df.columns if col not in cols_to_drop]\n",
    "    agg = df.groupby(['matchId', 'groupId'])[features].mean()\n",
    "    agg = agg.groupby('matchId')[features].rank(pct=True)\n",
    "    return df.merge(agg, suffixes=['', '_mean_rank'], how='left', on=['matchId', 'groupId'])\n",
    " \n",
    "def median_by_team(df):\n",
    "    cols_to_drop = ['Id', 'groupId', 'matchId', 'winPlacePerc', 'matchType']\n",
    "    features = [col for col in df.columns if col not in cols_to_drop and '_mean_rank' not in col]\n",
    "    agg = df.groupby(['matchId', 'groupId'])[features].median()\n",
    "    return df.merge(agg, suffixes=['', '_median'], how='left', on=['matchId', 'groupId'])\n",
    "\n",
    "def rank_and_median(df):\n",
    "    df=rank_by_team(df)\n",
    "    return median_by_team(df)\n",
    "\n",
    "def run_experiment(preprocess):\n",
    "    \n",
    "    df = reload()\n",
    "    \n",
    "    \n",
    "    df = preprocess(df)\n",
    "\n",
    "    target = 'winPlacePerc'\n",
    "    cols_to_drop = ['Id', 'groupId', 'matchId', target, 'matchType']\n",
    "    cols_to_fit = [col for col in df.columns if col not in cols_to_drop]\n",
    "    #cols_to_fit=[col for col in df.columns if col[-4:]=='rank']\n",
    "\n",
    "    \n",
    "\n",
    "    model = RandomForestRegressor(n_estimators=40,min_samples_leaf=10,max_features='sqrt',n_jobs=-1)\n",
    "    scores = cross_val_score(model, df[cols_to_fit], df[target], cv=5, scoring='neg_mean_absolute_error')\n",
    "    \n",
    "    return str(scores.mean())[1:9] + '+/-' + str(scores.std()*2)[0:9]"
   ]
  },
  {
   "cell_type": "code",
   "execution_count": 0,
   "metadata": {
    "colab": {},
    "colab_type": "code",
    "id": "51Ib7Rmz_WO1"
   },
   "outputs": [],
   "source": [
    "run_experiment(rank_and_median)"
   ]
  }
 ],
 "metadata": {
  "colab": {
   "name": "cvRandomForest.ipynb",
   "provenance": [],
   "version": "0.3.2"
  },
  "kernelspec": {
   "display_name": "Python 3",
   "language": "python",
   "name": "python3"
  },
  "language_info": {
   "codemirror_mode": {
    "name": "ipython",
    "version": 3
   },
   "file_extension": ".py",
   "mimetype": "text/x-python",
   "name": "python",
   "nbconvert_exporter": "python",
   "pygments_lexer": "ipython3",
   "version": "3.7.3"
  }
 },
 "nbformat": 4,
 "nbformat_minor": 1
}
